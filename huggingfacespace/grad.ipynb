{
 "cells": [
  {
   "cell_type": "code",
   "execution_count": 1,
   "id": "f7a044ff",
   "metadata": {},
   "outputs": [
    {
     "name": "stdout",
     "output_type": "stream",
     "text": [
      "Requirement already satisfied: gradio in c:\\users\\khatt\\appdata\\local\\programs\\python\\python313\\lib\\site-packages (5.38.2)\n",
      "Requirement already satisfied: gradio_client in c:\\users\\khatt\\appdata\\local\\programs\\python\\python313\\lib\\site-packages (1.11.0)\n",
      "Requirement already satisfied: aiofiles<25.0,>=22.0 in c:\\users\\khatt\\appdata\\local\\programs\\python\\python313\\lib\\site-packages (from gradio) (24.1.0)\n",
      "Requirement already satisfied: anyio<5.0,>=3.0 in c:\\users\\khatt\\appdata\\local\\programs\\python\\python313\\lib\\site-packages (from gradio) (4.7.0)\n",
      "Requirement already satisfied: audioop-lts<1.0 in c:\\users\\khatt\\appdata\\local\\programs\\python\\python313\\lib\\site-packages (from gradio) (0.2.1)\n",
      "Requirement already satisfied: brotli>=1.1.0 in c:\\users\\khatt\\appdata\\local\\programs\\python\\python313\\lib\\site-packages (from gradio) (1.1.0)\n",
      "Requirement already satisfied: fastapi<1.0,>=0.115.2 in c:\\users\\khatt\\appdata\\local\\programs\\python\\python313\\lib\\site-packages (from gradio) (0.115.12)\n",
      "Requirement already satisfied: ffmpy in c:\\users\\khatt\\appdata\\local\\programs\\python\\python313\\lib\\site-packages (from gradio) (0.6.1)\n",
      "Requirement already satisfied: groovy~=0.1 in c:\\users\\khatt\\appdata\\local\\programs\\python\\python313\\lib\\site-packages (from gradio) (0.1.2)\n",
      "Requirement already satisfied: httpx<1.0,>=0.24.1 in c:\\users\\khatt\\appdata\\local\\programs\\python\\python313\\lib\\site-packages (from gradio) (0.28.1)\n",
      "Requirement already satisfied: huggingface-hub>=0.28.1 in c:\\users\\khatt\\appdata\\local\\programs\\python\\python313\\lib\\site-packages (from gradio) (0.34.1)\n",
      "Requirement already satisfied: jinja2<4.0 in c:\\users\\khatt\\appdata\\local\\programs\\python\\python313\\lib\\site-packages (from gradio) (3.1.5)\n",
      "Requirement already satisfied: markupsafe<4.0,>=2.0 in c:\\users\\khatt\\appdata\\local\\programs\\python\\python313\\lib\\site-packages (from gradio) (3.0.2)\n",
      "Requirement already satisfied: numpy<3.0,>=1.0 in c:\\users\\khatt\\appdata\\local\\programs\\python\\python313\\lib\\site-packages (from gradio) (2.2.1)\n",
      "Requirement already satisfied: orjson~=3.0 in c:\\users\\khatt\\appdata\\local\\programs\\python\\python313\\lib\\site-packages (from gradio) (3.10.13)\n",
      "Requirement already satisfied: packaging in c:\\users\\khatt\\appdata\\local\\programs\\python\\python313\\lib\\site-packages (from gradio) (24.2)\n",
      "Requirement already satisfied: pandas<3.0,>=1.0 in c:\\users\\khatt\\appdata\\local\\programs\\python\\python313\\lib\\site-packages (from gradio) (2.2.3)\n",
      "Requirement already satisfied: pillow<12.0,>=8.0 in c:\\users\\khatt\\appdata\\local\\programs\\python\\python313\\lib\\site-packages (from gradio) (10.4.0)\n",
      "Requirement already satisfied: pydantic<2.12,>=2.0 in c:\\users\\khatt\\appdata\\local\\programs\\python\\python313\\lib\\site-packages (from gradio) (2.10.4)\n",
      "Requirement already satisfied: pydub in c:\\users\\khatt\\appdata\\local\\programs\\python\\python313\\lib\\site-packages (from gradio) (0.25.1)\n",
      "Requirement already satisfied: python-multipart>=0.0.18 in c:\\users\\khatt\\appdata\\local\\programs\\python\\python313\\lib\\site-packages (from gradio) (0.0.20)\n",
      "Requirement already satisfied: pyyaml<7.0,>=5.0 in c:\\users\\khatt\\appdata\\local\\programs\\python\\python313\\lib\\site-packages (from gradio) (6.0.2)\n",
      "Requirement already satisfied: ruff>=0.9.3 in c:\\users\\khatt\\appdata\\local\\programs\\python\\python313\\lib\\site-packages (from gradio) (0.12.4)\n",
      "Requirement already satisfied: safehttpx<0.2.0,>=0.1.6 in c:\\users\\khatt\\appdata\\local\\programs\\python\\python313\\lib\\site-packages (from gradio) (0.1.6)\n",
      "Requirement already satisfied: semantic-version~=2.0 in c:\\users\\khatt\\appdata\\local\\programs\\python\\python313\\lib\\site-packages (from gradio) (2.10.0)\n",
      "Requirement already satisfied: starlette<1.0,>=0.40.0 in c:\\users\\khatt\\appdata\\local\\programs\\python\\python313\\lib\\site-packages (from gradio) (0.46.2)\n",
      "Requirement already satisfied: tomlkit<0.14.0,>=0.12.0 in c:\\users\\khatt\\appdata\\local\\programs\\python\\python313\\lib\\site-packages (from gradio) (0.13.3)\n",
      "Requirement already satisfied: typer<1.0,>=0.12 in c:\\users\\khatt\\appdata\\local\\programs\\python\\python313\\lib\\site-packages (from gradio) (0.16.0)\n",
      "Requirement already satisfied: typing-extensions~=4.0 in c:\\users\\khatt\\appdata\\local\\programs\\python\\python313\\lib\\site-packages (from gradio) (4.12.2)\n",
      "Requirement already satisfied: uvicorn>=0.14.0 in c:\\users\\khatt\\appdata\\local\\programs\\python\\python313\\lib\\site-packages (from gradio) (0.34.3)\n",
      "Requirement already satisfied: fsspec in c:\\users\\khatt\\appdata\\local\\programs\\python\\python313\\lib\\site-packages (from gradio_client) (2025.7.0)\n",
      "Requirement already satisfied: websockets<16.0,>=10.0 in c:\\users\\khatt\\appdata\\local\\programs\\python\\python313\\lib\\site-packages (from gradio_client) (15.0.1)\n",
      "Requirement already satisfied: idna>=2.8 in c:\\users\\khatt\\appdata\\local\\programs\\python\\python313\\lib\\site-packages (from anyio<5.0,>=3.0->gradio) (3.10)\n",
      "Requirement already satisfied: sniffio>=1.1 in c:\\users\\khatt\\appdata\\local\\programs\\python\\python313\\lib\\site-packages (from anyio<5.0,>=3.0->gradio) (1.3.1)\n",
      "Requirement already satisfied: certifi in c:\\users\\khatt\\appdata\\local\\programs\\python\\python313\\lib\\site-packages (from httpx<1.0,>=0.24.1->gradio) (2024.12.14)\n",
      "Requirement already satisfied: httpcore==1.* in c:\\users\\khatt\\appdata\\local\\programs\\python\\python313\\lib\\site-packages (from httpx<1.0,>=0.24.1->gradio) (1.0.7)\n",
      "Requirement already satisfied: h11<0.15,>=0.13 in c:\\users\\khatt\\appdata\\local\\programs\\python\\python313\\lib\\site-packages (from httpcore==1.*->httpx<1.0,>=0.24.1->gradio) (0.14.0)\n",
      "Requirement already satisfied: python-dateutil>=2.8.2 in c:\\users\\khatt\\appdata\\local\\programs\\python\\python313\\lib\\site-packages (from pandas<3.0,>=1.0->gradio) (2.9.0.post0)\n",
      "Requirement already satisfied: pytz>=2020.1 in c:\\users\\khatt\\appdata\\local\\programs\\python\\python313\\lib\\site-packages (from pandas<3.0,>=1.0->gradio) (2024.2)\n",
      "Requirement already satisfied: tzdata>=2022.7 in c:\\users\\khatt\\appdata\\local\\programs\\python\\python313\\lib\\site-packages (from pandas<3.0,>=1.0->gradio) (2024.2)\n",
      "Requirement already satisfied: annotated-types>=0.6.0 in c:\\users\\khatt\\appdata\\local\\programs\\python\\python313\\lib\\site-packages (from pydantic<2.12,>=2.0->gradio) (0.7.0)\n",
      "Requirement already satisfied: pydantic-core==2.27.2 in c:\\users\\khatt\\appdata\\local\\programs\\python\\python313\\lib\\site-packages (from pydantic<2.12,>=2.0->gradio) (2.27.2)\n",
      "Requirement already satisfied: click>=8.0.0 in c:\\users\\khatt\\appdata\\local\\programs\\python\\python313\\lib\\site-packages (from typer<1.0,>=0.12->gradio) (8.1.8)\n",
      "Requirement already satisfied: shellingham>=1.3.0 in c:\\users\\khatt\\appdata\\local\\programs\\python\\python313\\lib\\site-packages (from typer<1.0,>=0.12->gradio) (1.5.4)\n",
      "Requirement already satisfied: rich>=10.11.0 in c:\\users\\khatt\\appdata\\local\\programs\\python\\python313\\lib\\site-packages (from typer<1.0,>=0.12->gradio) (13.9.4)\n",
      "Requirement already satisfied: colorama in c:\\users\\khatt\\appdata\\local\\programs\\python\\python313\\lib\\site-packages (from click>=8.0.0->typer<1.0,>=0.12->gradio) (0.4.6)\n",
      "Requirement already satisfied: filelock in c:\\users\\khatt\\appdata\\local\\programs\\python\\python313\\lib\\site-packages (from huggingface-hub>=0.28.1->gradio) (3.18.0)\n",
      "Requirement already satisfied: requests in c:\\users\\khatt\\appdata\\local\\programs\\python\\python313\\lib\\site-packages (from huggingface-hub>=0.28.1->gradio) (2.32.3)\n",
      "Requirement already satisfied: tqdm>=4.42.1 in c:\\users\\khatt\\appdata\\local\\programs\\python\\python313\\lib\\site-packages (from huggingface-hub>=0.28.1->gradio) (4.67.1)\n",
      "Requirement already satisfied: six>=1.5 in c:\\users\\khatt\\appdata\\local\\programs\\python\\python313\\lib\\site-packages (from python-dateutil>=2.8.2->pandas<3.0,>=1.0->gradio) (1.17.0)\n",
      "Requirement already satisfied: markdown-it-py>=2.2.0 in c:\\users\\khatt\\appdata\\local\\programs\\python\\python313\\lib\\site-packages (from rich>=10.11.0->typer<1.0,>=0.12->gradio) (3.0.0)\n",
      "Requirement already satisfied: pygments<3.0.0,>=2.13.0 in c:\\users\\khatt\\appdata\\local\\programs\\python\\python313\\lib\\site-packages (from rich>=10.11.0->typer<1.0,>=0.12->gradio) (2.18.0)\n",
      "Requirement already satisfied: mdurl~=0.1 in c:\\users\\khatt\\appdata\\local\\programs\\python\\python313\\lib\\site-packages (from markdown-it-py>=2.2.0->rich>=10.11.0->typer<1.0,>=0.12->gradio) (0.1.2)\n",
      "Requirement already satisfied: charset-normalizer<4,>=2 in c:\\users\\khatt\\appdata\\local\\programs\\python\\python313\\lib\\site-packages (from requests->huggingface-hub>=0.28.1->gradio) (3.4.1)\n",
      "Requirement already satisfied: urllib3<3,>=1.21.1 in c:\\users\\khatt\\appdata\\local\\programs\\python\\python313\\lib\\site-packages (from requests->huggingface-hub>=0.28.1->gradio) (2.3.0)\n"
     ]
    }
   ],
   "source": [
    "!pip install --upgrade gradio gradio_client\n"
   ]
  },
  {
   "cell_type": "code",
   "execution_count": null,
   "id": "db63c2ba",
   "metadata": {},
   "outputs": [],
   "source": []
  },
  {
   "cell_type": "code",
   "execution_count": 3,
   "id": "c0e58c9f",
   "metadata": {},
   "outputs": [
    {
     "name": "stdout",
     "output_type": "stream",
     "text": [
      "{'category': 'business', 'score': '0.94832843542099'}\n"
     ]
    }
   ],
   "source": [
    "import requests\n",
    "\n",
    "url = \"http://127.0.0.1:8000/predict_news\"\n",
    "data = {\n",
    "    \"text\": \"Government proposes new policies for tech regulation.\"\n",
    "}\n",
    "\n",
    "response = requests.post(url, json=data)\n",
    "print(response.json())"
   ]
  },
  {
   "cell_type": "code",
   "execution_count": 10,
   "id": "9e50391e",
   "metadata": {},
   "outputs": [
    {
     "name": "stdout",
     "output_type": "stream",
     "text": [
      "business 0.94832843542099\n"
     ]
    }
   ],
   "source": [
    "test =response.json()\n",
    "print(f\"{test['category']} {str(test['score'])}\")"
   ]
  },
  {
   "cell_type": "code",
   "execution_count": 1,
   "id": "49fb1994",
   "metadata": {},
   "outputs": [
    {
     "name": "stdout",
     "output_type": "stream",
     "text": [
      "200\n"
     ]
    }
   ],
   "source": [
    "import requests\n",
    "print(requests.get(\"https://www.google.com\").status_code)\n"
   ]
  },
  {
   "cell_type": "code",
   "execution_count": null,
   "id": "23f76489",
   "metadata": {},
   "outputs": [
    {
     "name": "stderr",
     "output_type": "stream",
     "text": [
      "c:\\Users\\khatt\\Documents\\Model-Context-Protocol\\.venv\\lib\\site-packages\\tqdm\\auto.py:21: TqdmWarning: IProgress not found. Please update jupyter and ipywidgets. See https://ipywidgets.readthedocs.io/en/stable/user_install.html\n",
      "  from .autonotebook import tqdm as notebook_tqdm\n"
     ]
    }
   ],
   "source": [
    "from gradio_client import Client\n",
    "import requests\n",
    "\n",
    "from requests.exceptions import ReadTimeout\n",
    "client = Client(\"UmarKhattab09/WebScraping_With_LLM_FineTuning\",verbose=False)\n",
    "\n",
    "news = 'Before he entered politics, Kennedy made a career out of stoking doubt about vaccines, promoting theories contradicted by mountains of scientific evidence on common vaccines which have been studied for decades and safely administered to hundreds of millions of people'"
   ]
  },
  {
   "cell_type": "code",
   "execution_count": null,
   "id": "e8f82d2e",
   "metadata": {},
   "outputs": [
    {
     "name": "stdout",
     "output_type": "stream",
     "text": [
      "Calling predict()...\n",
      "Loaded as API: https://umarkhattab09-webscraping-with-llm-finetuning.hf.space ✔\n",
      "Calling predict()...\n"
     ]
    }
   ],
   "source": [
    "d2=5\n",
    "try:\n",
    "    print(\"Calling predict()...\")\n",
    "    result = client.predict(\n",
    "        d2,\n",
    "        api_name=\"/outputdf\",\n",
    "        \n",
    "\n",
    "    )\n",
    "    print(\"Result:\", result)\n",
    "except Exception as e:\n",
    "    print(\"Failed:\", e)"
   ]
  },
  {
   "cell_type": "code",
   "execution_count": null,
   "id": "6b1356ec",
   "metadata": {},
   "outputs": [
    {
     "ename": "NameError",
     "evalue": "name 'result' is not defined",
     "output_type": "error",
     "traceback": [
      "\u001b[1;31m---------------------------------------------------------------------------\u001b[0m",
      "\u001b[1;31mNameError\u001b[0m                                 Traceback (most recent call last)",
      "Cell \u001b[1;32mIn[7], line 1\u001b[0m\n\u001b[1;32m----> 1\u001b[0m \u001b[43mresult\u001b[49m\n",
      "\u001b[1;31mNameError\u001b[0m: name 'result' is not defined"
     ]
    }
   ],
   "source": [
    "result"
   ]
  },
  {
   "cell_type": "code",
   "execution_count": 2,
   "id": "07b25a82",
   "metadata": {},
   "outputs": [
    {
     "name": "stdout",
     "output_type": "stream",
     "text": [
      "Client.predict() Usage Info\n",
      "---------------------------\n",
      "Named API endpoints: 5\n",
      "\n",
      " - predict(count, api_name=\"/outputdfimpact\") -> value_6\n",
      "    Parameters:\n",
      "     - [Textbox] count: str (required)  \n",
      "    Returns:\n",
      "     - [Dataframe] value_6: dict(headers: list[Any], data: list[list[Any]], metadata: dict(str, list[Any] | None) | None) \n",
      "\n",
      " - predict(count, api_name=\"/outputdf\") -> value_6\n",
      "    Parameters:\n",
      "     - [Textbox] count: str (required)  \n",
      "    Returns:\n",
      "     - [Dataframe] value_6: dict(headers: list[Any], data: list[list[Any]], metadata: dict(str, list[Any] | None) | None) \n",
      "\n",
      " - predict(text, api_name=\"/trainingllm\") -> (value_22, value_23)\n",
      "    Parameters:\n",
      "     - [Textbox] text: str (required)  \n",
      "    Returns:\n",
      "     - [Textbox] value_22: str \n",
      "     - [Textbox] value_23: str \n",
      "\n",
      " - predict(count_range, api_name=\"/load_df_and_graph\") -> (value_6, value_30)\n",
      "    Parameters:\n",
      "     - [Textbox] count_range: str (required)  \n",
      "    Returns:\n",
      "     - [Dataframe] value_6: dict(headers: list[Any], data: list[list[Any]], metadata: dict(str, list[Any] | None) | None) \n",
      "     - [Html] value_30: str \n",
      "\n",
      " - predict(count_range, api_name=\"/load_df_and_graph2\") -> (value_6, value_30)\n",
      "    Parameters:\n",
      "     - [Textbox] count_range: str (required)  \n",
      "    Returns:\n",
      "     - [Dataframe] value_6: dict(headers: list[Any], data: list[list[Any]], metadata: dict(str, list[Any] | None) | None) \n",
      "     - [Html] value_30: str \n",
      "\n",
      "None\n"
     ]
    }
   ],
   "source": [
    "print(client.view_api())  # shows all available API functions exposed by the Gradio app\n"
   ]
  },
  {
   "cell_type": "code",
   "execution_count": null,
   "id": "aa195158",
   "metadata": {},
   "outputs": [
    {
     "name": "stdout",
     "output_type": "stream",
     "text": [
      "Calling predict()...\n",
      "Loaded as API: https://umarkhattab09-webscraping-with-llm-finetuning.hf.space ✔\n",
      "Loaded as API: https://umarkhattab09-webscraping-with-llm-finetuning.hf.space ✔\n",
      "Calling predict()...\n"
     ]
    }
   ],
   "source": [
    "def predict_news(category):\n",
    "    client = Client(\"UmarKhattab09/WebScraping_With_LLM_FineTuning\")\n",
    "\n",
    "    result = client.predict(category, api_name=\"/trainingllm\")\n",
    "    return result\n",
    "if __name__ == \"__main__\":\n",
    "    print(\"Calling predict()...\")\n",
    "    output = predict_news(\"Government proposes new policies for tech regulation.\")\n",
    "    print(\"Prediction:\", output)"
   ]
  }
 ],
 "metadata": {
  "kernelspec": {
   "display_name": "Model-Context-Protocol",
   "language": "python",
   "name": "python3"
  },
  "language_info": {
   "codemirror_mode": {
    "name": "ipython",
    "version": 3
   },
   "file_extension": ".py",
   "mimetype": "text/x-python",
   "name": "python",
   "nbconvert_exporter": "python",
   "pygments_lexer": "ipython3",
   "version": "3.10.18"
  }
 },
 "nbformat": 4,
 "nbformat_minor": 5
}
